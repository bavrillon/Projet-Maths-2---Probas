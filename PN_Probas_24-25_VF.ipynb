{
 "cells": [
  {
   "cell_type": "markdown",
   "metadata": {},
   "source": [
    "<h1 style=\"font-family: Georgia, serif;font-size: 2.5em;margin-left: 3em;margin-right: 4em;\"> \n",
    "\n",
    "---\n",
    "\n",
    "Probabilités 2024/25 : Projet numérique\n",
    "\n",
    "---\n",
    "\n",
    "</h1> "
   ]
  },
  {
   "cell_type": "code",
   "execution_count": 3,
   "metadata": {},
   "outputs": [],
   "source": [
    "## Import des packages et des fonctions utiles pour le projet\n",
    "\n",
    "#-----------------------------------------------------\n",
    "\n",
    "import numpy as np\n",
    "import matplotlib.pyplot as plt\n",
    "import matplotlib.patches as patches\n",
    "from matplotlib.collections import PatchCollection\n",
    "\n",
    "#-----------------------------------------------------\n",
    "\n",
    "## Vecteur de couleurs\n",
    "Cat=np.array(['#F8B005','#E35704','#A92A04'])\n",
    "\n",
    "## Fonction pour représenter les simulations\n",
    "def plotSim(S,figsize=(7,7),fromAbove=True,cropSim=True):\n",
    "\n",
    "    ## Sort by increasing time\n",
    "    Sim=S.copy()\n",
    "    indSort=np.argsort(Sim[:,0])\n",
    "    if fromAbove==False:\n",
    "        indSort=np.flip(indSort)\n",
    "    Sim=Sim[indSort,:]\n",
    "    \n",
    "    coordinates,sizes,colors = Sim[:,1:3], Sim[:,3], Cat[Sim[:,4].astype(int)]\n",
    "    \n",
    "    # Calculate bottom-left corner of each rectangle to center it\n",
    "    bottom_left_coords = coordinates - np.stack([sizes, sizes], axis=1)*(2**0.5)/2\n",
    "\n",
    "    # Create the rectangles\n",
    "    rectangles = [patches.Rectangle((x, y), w, h,angle=45,rotation_point='center') for (x, y), w, h in zip(bottom_left_coords, sizes*(2**0.5), sizes*(2**0.5))]\n",
    "\n",
    "    # Create a PatchCollection and apply the colors\n",
    "    collection = PatchCollection(rectangles, facecolor=colors, edgecolor='black')\n",
    "    \n",
    "    ## Plot\n",
    "    fig,ax = plt.subplots(figsize=figsize)\n",
    "    ax.add_collection(collection)\n",
    "    if cropSim:\n",
    "        ax.set_xlim(D[0],D[1])\n",
    "        ax.set_ylim(D[0],D[1])\n",
    "    else:\n",
    "        ax.set_xlim(Dext[0],Dext[1])\n",
    "        ax.set_ylim(Dext[0],Dext[1])\n",
    "    plt.show()"
   ]
  },
  {
   "cell_type": "markdown",
   "metadata": {},
   "source": [
    "## Introduction"
   ]
  },
  {
   "cell_type": "markdown",
   "metadata": {},
   "source": [
    "<h1 style=\"font-family: Georgia, serif;font-size: 1.1em;margin-left: 3em;margin-right: 4em;\"> \n",
    "\n",
    "---\n",
    "\n",
    "La géométrie stochastique est une branche des probabilités qui s'intéresse à la modélisation d'objets géométriques (e.g. points, lignes, polygones,...) dont les attributs et/ou la position dans l'espace sont aléatoires. Ces modèles sont utilisés pour modéliser un grand nombre de phénomènes, comme par exemple la position des épicentres  de séismes, la positions des arbres dans une forêt, ou la disposition de fibres ou de grains dans des matériaux composites.\n",
    "\n",
    "L'objectif de ce projet est de construire et de simuler un modèle simple de géométrie stochastique, le modèle dit des *feuilles mortes*. Il tire son nom du fait qu'il peut être vu comme une façon de modéliser des tapis de feuilles mortes sur le sol. L'idée est la suivante: on assimile les feuilles à des carrés \"apparaissant\" à des temps aléatoires et à des positions aléatoires sur un domaine $\\mathcal{D}\\subseteq \\mathbb{R}^2$ (le sol). On considère également que la taille et la couleur de ces carrés sont aléatoires. En supposant que les feuilles tombent depuis un temps $t=-\\infty$ et on considère l'état du domaine $\\mathcal{D}$ à l'instant $t=0$ (le tapis de feuilles).\n",
    "\n",
    "---\n",
    "\n",
    "</h1> "
   ]
  },
  {
   "cell_type": "markdown",
   "metadata": {},
   "source": [
    "## I - Temps d'arrivée des feuilles"
   ]
  },
  {
   "cell_type": "markdown",
   "metadata": {},
   "source": [
    "<h1 style=\"font-family: Georgia, serif;font-size: 1em;margin-left: 3em;margin-right: 4em;\"> \n",
    "\n",
    "---\n",
    "\n",
    "On suppose qu'on observe le tapis de feuille mortes au temps $T_0=0$ et que des feuilles sont tombées depuis un temps infini. On note ainsi $(T_{k})_{k\\in\\mathbb{Z}_-^*}$ la séquence des temps d'arrivée sur le sol des feuilles: $T_{-1}\\le 0$ est le temps d'arrivée de la dernière feuille du tapis, $T_{-2}\\le T_{-1}$ le temps d'arrivée de l'avant-dernière feuille, etc.\n",
    "\n",
    "Afin de modéliser les temps aléatoires $(T_{-i})_{i\\in\\mathbb{N}^*}$ auxquels les feuilles mortes tombent sur le sol, nous recourrons à un modèle permettant de représenter des points aléatoires dans l'intervalle $I = ]-\\infty, 0]$: le processus de Poisson (homogène). Ce modèle est défini de la manière suivante :\n",
    "\n",
    "1. Pour tout $ A \\in {\\cal B} (]-\\infty, 0])$ borné et fixé, le nombre de points $N (A)=\\text{Card}\\lbrace i\\in\\mathbb{N}^* : T_{-i} \\in A\\rbrace$ suit\n",
    "      une loi de Poisson de paramètre $\\theta \\, | A |$, où $\\theta \\in \\mathbb{R}^+$ et $|A|$ est la mesure de Lebesgue de $A$. On a donc\n",
    "      $$ \\mathbb{P} ( N (A) = n) = \\exp \\bigl( - \\theta | A | \\bigr) \\frac{\n",
    "        \\bigl( \\theta | A | \\bigr)^n }{n!},~n \\in \\N $$\n",
    "\n",
    "2. Pour tout $p\\ge 2$, si $A_1,...,A_p \\in {\\cal B} (]-\\infty, 0]) $ sont \n",
    "      disjoints deux à deux, alors $ N(A_1),...,N(A_p)$ sont \n",
    "      mutuellement indépendants.\n",
    "\n",
    "Le paramètre $\\theta$ est appelé l'intensité (ou densité) du processus de Poisson.\n",
    "\n",
    "---\n",
    "\n",
    "</h1> \n"
   ]
  },
  {
   "cell_type": "markdown",
   "metadata": {},
   "source": [
    "**Question 1.a.** Pour $i\\in\\mathbb{N}^*$ on pose $E_i = T_{-i +1} - T_{-i}$. Justifier que $\\forall i\\in\\mathbb{N}^*, \\tau >0,$  les événements $\\lbrace E_i > \\tau\\rbrace$ et $\\lbrace N([T_{-(i-1)}-\\tau, T_{-(i-1)}[)=0\\rbrace$ sont identiques, tout comme les évènements $\\lbrace T_{-(i-1)}=t\\rbrace$ et $ \\lbrace  N([t,0[)=i-1\\rbrace \\cap\\lbrace  N(]t,0[)=i-2 \\rbrace$ pour $t<0$ et $i>1$.\n"
   ]
  },
  {
   "cell_type": "markdown",
   "metadata": {},
   "source": [
    "SCAN"
   ]
  },
  {
   "cell_type": "markdown",
   "metadata": {},
   "source": [
    "-> On utilise la définition des différents évènements introduits dans l'énoncé :\n",
    "\n",
    "Soit $i\\in\\mathbb{N}^*, \\tau >0, \\omega_0 \\in\\Omega$, on a les équivalences : \n",
    "\n",
    "$ (\\omega_0 \\in\\lbrace E_i > \\tau\\rbrace) \\Leftrightarrow (\\omega_0 \\in\\lbrace T_{-i+1}-\\tau > T_{-i}\\rbrace) \\Leftrightarrow (\\omega_0 \\in\\lbrace \\omega |$ aucune feuille n'est tombée sur le sol durant l'intervalle de temps $[T_{-i+1}-\\tau , T_{-i+1}[   \\rbrace) \\Leftrightarrow (\\omega_0 \\in\\lbrace N([T_{-(i-1)}-\\tau, T_{-(i-1)}[)=0\\rbrace) $\n",
    "\n",
    "Soit $i\\in\\mathbb{N}$ \\ {0,1}, $t<0, \\omega_0 \\in\\Omega$, on a les équivalences : \n",
    "\n",
    "$ (\\omega_0 \\in\\lbrace T_{-(i-1)}=t\\rbrace) \\Leftrightarrow (\\omega_0 \\in\\lbrace \\omega |$ la feuille -(i-1) est tombée sur le sol à l'instant $t \\rbrace) \\Leftrightarrow (\\omega_0 \\in\\lbrace \\omega |$ (i-2) feuilles sont tombée sur le sol durant l'intervalle de temps $\\in ]t,0[\\rbrace \\cap \\lbrace \\omega |$ (i-1) feuilles sont tombée sur le sol durant l'intervalle de temps $\\in [t,0[ \\rbrace) \\Leftrightarrow (\\omega_0 \\in\\lbrace  N([t,0[)=i-1\\rbrace \\cap\\lbrace  N(]t,0[)=i-2 \\rbrace) $\n",
    "\n",
    "\n",
    "Ainsi, on en déduit que $\\forall i\\in\\mathbb{N}^*, \\tau >0,$  $\\lbrace E_i > \\tau\\rbrace = \\lbrace N([T_{-(i-1)}-\\tau, T_{-(i-1)}[)=0\\rbrace$, et que $\\forall t<0, i>1,$  $ \\lbrace T_{-(i-1)}=t\\rbrace = \\lbrace  N([t,0[)=i-1\\rbrace \\cap\\lbrace  N(]t,0[)=i-2 \\rbrace$.\n",
    "\n",
    "\n"
   ]
  },
  {
   "cell_type": "markdown",
   "metadata": {},
   "source": [
    "**Question 1.b.** En déduire que $\\forall i\\in\\mathbb{N}^*$, $E_i$ suit une loi exponentielle de paramètre $\\theta$.\n",
    "\n",
    "*Indication: Pour $i>1$, on pourra passer par le calcul de $\\mathbb{P}(N([T_{-(i-1)}-\\tau, T_{-(i-1)}[)=0)$ et utiliser le théorème de l'espérance totale pour calculer cette probabilité (la définition de la loi de $N(A)$ n'étant valable a priori que pour des boréliens $A$ déterministes/fixés).* "
   ]
  },
  {
   "cell_type": "markdown",
   "metadata": {},
   "source": [
    "SCAN"
   ]
  },
  {
   "cell_type": "markdown",
   "metadata": {},
   "source": [
    "**Question 1.c.** Soit $n\\in\\mathbb{N}$ où $n\\ge 2$, et soient $e_1, \\dots, e_{n-1} \\in \\R_+$. Montrer que $\\mathbb{P}(E_n>\\tau\\vert E_1=e_1, \\dots, E_{n-1}=e_{n-1} ) = \\mathbb{P}(E_n>\\tau)$. \n",
    "\n",
    "*Indication: On pourra poser  $\\mathcal{H}_{n-1} = \\lbrace E_1=e_1, \\dots, E_{n-1}=e_{n-1}\\rbrace$ et exprimer $\\mathcal{H}_{n-1}$ en fonction des variables $T_{-i}$.* "
   ]
  },
  {
   "cell_type": "markdown",
   "metadata": {},
   "source": [
    "Brouillon : J'ai exprimé H(n-1) en fonction des T-i, mais que faire ensuite ??? -"
   ]
  },
  {
   "cell_type": "markdown",
   "metadata": {},
   "source": [
    "**Question 1.d.** En déduire que la suite $(E_i)_{i\\in\\mathbb{N}^*} $ est une suite de variables aléatoires indépendantes, toutes de loi exponentielle de paramètre $\\theta$."
   ]
  },
  {
   "cell_type": "markdown",
   "metadata": {},
   "source": [
    "SCAN : INDEP !!"
   ]
  },
  {
   "cell_type": "markdown",
   "metadata": {},
   "source": [
    "**Question 1.dbis.(Bonus)** Montrer que inversement, si $(E_i)_{i\\in\\mathbb{N}^*} $ est une suite de variables aléatoires indépendantes, toutes de loi exponentielle de paramètre $\\theta$, alors la suite $(T_{-i})_{i\\in\\mathbb{N}^*}$ telle que $E_i = T_{-i +1} - T_{-i}$ définit un processus de Poisson sur $]-\\infty, 0[$."
   ]
  },
  {
   "cell_type": "markdown",
   "metadata": {},
   "source": [
    "J'ai fait des choses au brouillon, mais là je suis vraiment bloqué..."
   ]
  },
  {
   "cell_type": "markdown",
   "metadata": {},
   "source": [
    "**Question 1.e.**  Implémenter une fonction qui, étant données une valeur $t_{\\min}<0$ et une valeur de $\\theta$, permet de simuler les temps d'arrivée des feuilles tombant dans l'intervalle $[t_{\\min},0[$, i.e. les variables $(T_{-i})_{i\\in\\mathbb{N}^*}$ telles que $T_{-i} \\in [t_{\\min},0[$. On veillera à ce que les temps d'arrivées soient retournés un vecteur trié dans l'ordre croissant."
   ]
  },
  {
   "cell_type": "code",
   "execution_count": 4,
   "metadata": {},
   "outputs": [],
   "source": [
    "def simTempsArrivee(t_min,theta):\n",
    "    def simExpo(theta):\n",
    "        u = np.random.rand()\n",
    "        return(-np.log(u)/theta) # Méthode d'inversion\n",
    "\n",
    "    T = np.array([])\n",
    "    t = 0\n",
    "    while t >= t_min :\n",
    "        E = simExpo(theta)\n",
    "        t += E\n",
    "        T.append(t)\n",
    "    T = np.flip(T) #trier par ordre croissant le tableau qui l'est actuellement par ordre décroissant\n",
    "    return(T)"
   ]
  },
  {
   "cell_type": "markdown",
   "metadata": {},
   "source": [
    "## II - Caractéristiques des feuilles"
   ]
  },
  {
   "cell_type": "markdown",
   "metadata": {},
   "source": [
    "<h1 style=\"font-family: Georgia, serif;font-size: 1em;margin-left: 3em;margin-right: 4em;\"> \n",
    "\n",
    "\n",
    "---\n",
    "\n",
    "Dans la suite du projet, on pose $\\mathcal{D}=[-1,1]\\times [-1,1]$ et $\\mathcal{D}_{ext}=[-2,2]\\times[-2,2]$.\n",
    "\n",
    "\n",
    "On passe maintenant à la modélisation des caractéristiques des feuilles $F$, à savoir leur position, leur couleur et leur taille.\n",
    "\n",
    "Comme indiqué en introduction, les feuilles sont assimilées à des carrés de $\\mathbb{R}^2$. En particulier, on suppose que toutes les feuilles tombent avec la même orientation: on peut donc assimiler ces feuilles/carrés à des ''boules'' (fermées) pour la norme $\\Vert\\cdot\\Vert_1$ définie par $\\Vert x\\Vert_1 = \\vert x_1\\vert + \\vert x _2\\vert$, $x=(x_1,x_2)\\in\\mathbb{R}^2$. Ainsi chaque feuille $F$ est en somme une boule de centre $\\chi(F)\\in\\mathbb{R}^2$ et de rayon $\\rho(F)>0$ aléatoires.\n",
    "\n",
    "La position d'une feuille $F$ sur le sol est spécifiée par le centre $\\chi(F)\\in\\mathbb{R}^2$ du carré/de la boule correspondant(e). On suppose que les feuilles tombent uniformément dans $\\mathcal{D}_{ext}$, i.e. $\\chi(F)\\sim \\mathcal{U}(\\mathcal{D}_{ext})$.\n",
    "\n",
    "La taille d'une feuille $F$ est spécifiée par le rayon $\\rho(F)>0$ de la boule correspondante. Ce rayon suit une loi qui sera précisée plus tard, mais on suppose que la taille des feuilles est bornée par $1/2$, de sorte que seules les feuilles tombant dans $\\mathcal{D}_{ext}$ intersectent la zone d'étude $\\mathcal{D}$. \n",
    "\n",
    "On représente ci-dessous une feuille $F$ pour fixer les idées.\n",
    "\n",
    "</h1> "
   ]
  },
  {
   "cell_type": "code",
   "execution_count": 5,
   "metadata": {},
   "outputs": [
    {
     "data": {
      "image/png": "[encoded data removed]",
      "text/plain": [
       "<Figure size 500x500 with 1 Axes>"
      ]
     },
     "metadata": {},
     "output_type": "display_data"
    }
   ],
   "source": [
    "## Figure représentant une feuille F\n",
    "fig,ax=plt.subplots(figsize=(5,5))\n",
    "ax.plot([-1,0,1,0,-1],[0,1,0,-1,0],color=\"black\")\n",
    "ax.plot([0,1],[0,0],color=\"darkblue\")\n",
    "ax.scatter(0,0,color=\"darkred\")\n",
    "ax.text(-0.,-0.1,r\"$\\chi(F)$\",fontsize=15,ha='center', va='top',color=\"darkred\")\n",
    "ax.text(0.5,0.05,r\"$\\rho(F)$\",fontsize=15,ha='center', va='bottom',color=\"darkblue\")\n",
    "ax.set_title(\"Représentation d'une feuille F\",fontsize=15)\n",
    "ax.axis('off')\n",
    "plt.show()\n"
   ]
  },
  {
   "cell_type": "markdown",
   "metadata": {},
   "source": [
    "<h1 style=\"font-family: Georgia, serif;font-size: 1em;margin-left: 3em;margin-right: 4em;\"> \n",
    "\n",
    "La couleur d'une feuille $F$ est quant à elle modélisée par un entier $c(F)\\in\\lbrace 0,...,N_c-1\\rbrace$ où $N_c$ désigne le nombre de couleurs possibles. La probabilité qu'une feuille soit de couleur $k$ est notée $\\mathbb{P}(c(F)=k)=p_k\\in[0,1]$ et on a $\\sum_{k=0}^{N_c-1}p_k=1$.\n",
    "\n",
    "Enfin, on considère que les caractéristiques (position, taille, couleur) d'une feuille sont indépendantes de son temps d'arrivée.\n",
    "Ainsi, si on note $F$ une feuille arrivant à un des temps $T_{-i}$, $i\\in\\mathbb{N}^*$, alors $\\chi(F)$,  $c(F)$ et $\\rho(F)\\in ]0,1/2[$  sont des variables aléatoires indépendantes de $T_{-i}$. \n",
    "On supposera également que  $\\chi(F)$ est indépendante de $c(F)$ et $\\rho(F)$, et que la loi de $\\rho(F)$ dépend de la couleur $c(F)$ de la feuille.\n",
    "\n",
    "---\n",
    "\n",
    "</h1> "
   ]
  },
  {
   "cell_type": "markdown",
   "metadata": {},
   "source": [
    "\n",
    "**Question 2.a.** Soit $x_0 \\in\\mathcal{D}$ quelconque. Montrer que la probabilité qu'une feuille $F$ de couleur $c(F)=i\\in\\lbrace 0,\\dots,N_c-1\\rbrace$ et de taille $\\rho(F)=r\\in]0,1/2[$ recouvre le point $x_0$ est donnée par\n",
    "$$\n",
    "\\begin{aligned}\n",
    "P(x_0\\in F \\;\\vert\\; c(F)=i,\\; \\rho(F)=r)\n",
    "%=\\frac{\\vert B_1(x_0, r)\\vert }{\\vert \\mathcal{D}\\vert}\n",
    "=\\frac{r^2 }{8}\n",
    "\\end{aligned}\n",
    "$$"
   ]
  },
  {
   "cell_type": "markdown",
   "metadata": {},
   "source": [
    "\n",
    "→ Pour toute la suite, on notera la norme 1 de sorte que : $\\Vert x\\Vert_1 = \\Vert x_1\\Vert$, pour tout vecteur $x$ de $\\mathbb{R}^2$.\n",
    "$$\n",
    "\\begin{aligned}\n",
    "    P(x_0 \\in F |  c(F) = i, \\rho(F) = r)  \\\\\n",
    "    &= P\\left(\\| x_0 - X(F) \\| \\leq r |  c(F) = i, \\rho(F) = r\\right) \\\\\n",
    "    &= P\\left(\\| x_0 - X(F) \\| \\leq r\\right) \\quad \\text{car } X(F) \\perp\\!\\!\\!\\perp \\rho(F) \\text{ et } X(F) \\perp\\!\\!\\!\\perp c(F), \\\\\n",
    "    &= P\\left(X(F) \\in B(x_0, r)\\right).\n",
    "\\end{aligned}\n",
    "$$\n",
    "\n",
    "Puisque $ X(F) \\sim \\mathcal{U}({D_{ext}}) $ et $ B(x_0, r) \\subset {D_{ext}} $:\n",
    "$$\n",
    "P\\left(X(F) \\in B(x_0, r)\\right) = \\int_{B(x_0, r)} \n",
    "\\frac{\\mathbf{1}_{D_{ext}}(x)}{\\lambda(D_{ext})} \\, \\text{d}x=\\frac{\\lambda(B(x_0, r))}{\\lambda({D_{ext}})}.\n",
    "$$\n",
    "\n",
    "En utilisant la géométrie (aire d'un carré de diagonale 2r), on obtient $B(x_0, r) = (r/\\sqrt{2})^2$, donc :\n",
    "$$\n",
    "P\\left(X(F) \\in B(x_0, r)\\right) = \\frac{(r \\sqrt{2})^2}{4^2} = \\frac{r^2}{8}.\n",
    "$$"
   ]
  },
  {
   "cell_type": "markdown",
   "metadata": {},
   "source": [
    "\n",
    "**Question 2.b.** Montrer que la probabilité qu'une feuille $F$ de couleur $i$  recouvre le point $x_0 \\in\\mathcal{D}$ est donnée par\n",
    "$$\n",
    "\\begin{aligned}\n",
    "\\mathbb{P}(c(F)=i, x_0\\in F)\n",
    "&=\\frac{p_ir_i^2}{8}\n",
    "\\end{aligned}\n",
    "$$\n",
    "où on note $p_i = \\mathbb{P}(c(F)=i) $ et $r_i^2=\\mathbb{E}\\big[\\rho(F)^2 \\,\\big\\vert c(F)=i\\big]$.\n"
   ]
  },
  {
   "cell_type": "markdown",
   "metadata": {},
   "source": []
  },
  {
   "cell_type": "markdown",
   "metadata": {},
   "source": [
    "**Question 2.c.** En déduire que  la probabilité qu'une feuille $F$ recouvre le point $x_0 \\in\\mathcal{D}$ est donnée par\n",
    "$$\n",
    "\\begin{aligned}\n",
    "\\mathbb{P}(x_0\\in F)\n",
    "&=\\frac{1}{8}\\sum_{j=0}^{N_c-1} p_jr_j^2\n",
    "\\end{aligned}\n",
    "$$\n",
    "et que la probabilité qu'une feuille $F$ soit de couleur $i$  sachant qu'elle recouvre le point $x_0 \\in\\mathcal{D}$ est donnée par\n",
    "$$\n",
    "\\begin{aligned}\n",
    "\\mathbb{P}(c(F)=i \\vert x_0\\in F)\n",
    "&=\\frac{p_ir_i^2}{\\sum_{j=0}^{N_c-1} p_jr_j^2}\n",
    "\\end{aligned}\n",
    "$$"
   ]
  },
  {
   "cell_type": "markdown",
   "metadata": {},
   "source": []
  },
  {
   "cell_type": "markdown",
   "metadata": {},
   "source": [
    "\n",
    "<h1 style=\"font-family: Georgia, serif;font-size: 1em;margin-left: 3em;margin-right: 4em;\"> \n",
    "\n",
    "---\n",
    "\n",
    "**Remarque:** Soit $C(x_0)\\in\\lbrace 0,\\dots,N_c-1\\rbrace$ la couleur de la feuille recouvrant le point $x_0\\in\\mathcal{D}$  au temps $T_0=0$. $C(x_0)$ correspond donc à la couleur de la dernière feuille recouvrant $x_0$.  On note que puisque les couleurs des feuilles sont tirées indépendamment de leurs temps d'arrivée, la distribution de la couleur de la dernière feuille recouvrant le point $x_0$ est la même que la distribution de la couleur de n'importe quelle autre feuille recouvrant $x_0$, à savoir $\\mathbb{P}(c(F)= \\cdot ~ \\vert x_0\\in F)$. On peut dès lors conclure que\n",
    "\n",
    "$$\n",
    "\\begin{aligned}\n",
    "\\mathbb{P}(C(x_0)=i)=\\mathbb{P}(c(F)=i \\vert x_0\\in F) = \\frac{p_ir_i^2}{\\sum_{j=0}^{N_c} p_jr_j^2}, \\quad i\\in \\lbrace 0,\\dots,N_c-1\\rbrace.\n",
    "\\end{aligned}\n",
    "$$\n",
    "\n",
    "---\n",
    "\n",
    "</h1 style=\"font-family: Georgia, serif;font-size: 1em;margin-left: 3em;margin-right: 4em;\"> "
   ]
  },
  {
   "cell_type": "markdown",
   "metadata": {},
   "source": [
    "**Question 2.cbis.(Bonus).**  Soit $\\tilde N(x_0,\\tau)$ le nombre de feuilles recouvrant le point $x_0$ et étant tombées dans l'intervalle de temps $[-\\tau,0[$. Montrer que $ \\tilde N(x_0,\\tau)$ suit une loi de Poisson de paramètre $\\tilde\\theta\\tau$ avec \n",
    "\n",
    "$$\\tilde\\theta=\\frac{\\theta}{8}\\sum_{j=0}^{N_c-1} p_jr_j^2$$\n",
    "\n",
    "*Indication: On pourra introduire la variable $\\tilde N(\\tau)$ donnant le nombre total de feuilles tombées  dans l'intervalle de temps $[-\\tau,0[$ (quelle que soit leur couleur ou leur position).*"
   ]
  },
  {
   "cell_type": "markdown",
   "metadata": {},
   "source": []
  },
  {
   "cell_type": "markdown",
   "metadata": {},
   "source": [
    "**Question 2.d.** En déduire que la probabilité qu'aucune feuille ne recouvre le point $x_0\\in\\mathcal{D}$ au temps $T_0=0$ est nulle (en pensant à bien justifier d'éventuels passages à la limite).\n"
   ]
  },
  {
   "cell_type": "markdown",
   "metadata": {},
   "source": []
  },
  {
   "cell_type": "markdown",
   "metadata": {},
   "source": [
    "<h1 style=\"font-family: Georgia, serif;font-size: 1em;margin-left: 3em;margin-right: 4em;\"> \n",
    "\n",
    "---\n",
    "\n",
    "On considère que la taille $\\rho(F)$ d'une feuille dépend de la couleur $c(F)$ de la feuille comme suit: si la couleur de la feuille est $c(F)=i\\in\\lbrace 0,\\dots, N_c-1\\rbrace$, alors $\\rho(F)$ suit une loi uniforme sur $[a_i,b_i]$ pour un certain $a_i\\in[0,1/2[$ et un certain $b_i\\in]a_i,1/2[$.\n",
    "\n",
    "---\n",
    "\n",
    "</h1 style=\"font-family: Georgia, serif;font-size: 1em;margin-left: 3em;margin-right: 4em;\"> \n"
   ]
  },
  {
   "cell_type": "markdown",
   "metadata": {},
   "source": []
  },
  {
   "cell_type": "markdown",
   "metadata": {},
   "source": [
    "**Question 3.a.** Montrer que l'expression de la fonction de répartition de $\\rho(F)$ est donnée par:\n",
    "$$\n",
    "\\mathcal{F_\\rho}(r)\n",
    " = \\sum_{i=0}^{N_c-1} p_i (\\frac{r-a_i}{b_i-a_i}\\mathbf{1}_{[a_i,b_i]}(r)+\\mathbf{1}_{]b_i,\\infty[}(r)), \\quad r\\ge 0.\n",
    "$$"
   ]
  },
  {
   "cell_type": "markdown",
   "metadata": {},
   "source": [
    "SCAN"
   ]
  },
  {
   "cell_type": "markdown",
   "metadata": {},
   "source": [
    "**Question 3.b.** Implémenter une fonction permettant d'évaluer la fonction de répartition $\\mathcal{F_\\rho}$ et son inverse (généralisée) $\\mathcal{F_\\rho}^{-1}$. Ces fonctions prendront en entrée la valeur $r$ (resp. $p$) à laquelle on souhaite évaluer $\\mathcal{F_\\rho}$ (resp. $\\mathcal{F_\\rho}^{-1}$), ainsi qu'un vecteur $a\\in [0,1/2]^{N_c}$ contenant les valeurs $a_i$ et un vecteur $b\\in [0,1/2]^{N_c}$ contenant les valeurs $b_i$.\n",
    "\n",
    "*Indication: On pourra utiliser la fonction \"minimize_scalar\" du package \"scipy.optimize\" afin de calculer les valeurs de $\\mathcal{F_\\rho}^{-1}$ à partir de celles de $\\mathcal{F_\\rho}$*"
   ]
  },
  {
   "cell_type": "code",
   "execution_count": 6,
   "metadata": {},
   "outputs": [],
   "source": [
    "from scipy.optimize import minimize_scalar\n",
    "\n",
    "def F_rho(r,a,b):\n",
    "    somme = 0\n",
    "    n = len(a)\n",
    "    for i in range(n):\n",
    "        if r >= a[i] and r <= b[i] :\n",
    "            somme += p[i]*((r-a[i])/(b[i]-a[i]))\n",
    "        if r> b[i] :\n",
    "            somme += p[i]\n",
    "    return(somme)\n",
    "\n",
    "def invF_rho(p,a,b):\n",
    "    fonctionnelle = lambda x: x*(F_rho(x,a,b)-p >= 0) + 1e6*(1-(F_rho(x,a,b)-p >= 0))\n",
    "    res = minimize_scalar(fonctionnelle)\n",
    "    return(res.x)\n"
   ]
  },
  {
   "cell_type": "markdown",
   "metadata": {},
   "source": [
    "<h1 style=\"font-family: Georgia, serif;font-size: 1em;margin-left: 3em;margin-right: 4em;\"> \n",
    "\n",
    "---\n",
    "\n",
    "On considère dorénavant que $N_c=3$ et on pose les valeurs suivantes pour les vecteurs $a$ et $b$, et les probabilités $p_i$.\n",
    "\n",
    "---\n",
    "\n",
    "</h1> "
   ]
  },
  {
   "cell_type": "code",
   "execution_count": 7,
   "metadata": {},
   "outputs": [],
   "source": [
    "#Nombre de couleurs\n",
    "Nc=3\n",
    "\n",
    "## Probabilités p_i (stockées dans un vecteur)\n",
    "p=np.array([0.5,0.4,0.1])\n",
    "\n",
    "# Vecteur a\n",
    "a=np.array([0.1,0.1,0.2])\n",
    "\n",
    "# Vecteur b\n",
    "b=np.array([0.25,0.25,0.5])"
   ]
  },
  {
   "cell_type": "markdown",
   "metadata": {},
   "source": [
    "**Question 3.c.**  On appelle quantile d'ordre $\\alpha\\in [0,1]$ d'une variable aléatoire $X$ toute valeur $q_\\alpha \\in\\mathbb{R}$ telle que $F_X(q_\\alpha)=\\alpha$. Calculer les quantiles de $\\rho(F)$ pour $\\alpha = k/50$ avec $k~\\in~\\lbrace 1,\\dots,49\\rbrace$."
   ]
  },
  {
   "cell_type": "code",
   "execution_count": 17,
   "metadata": {},
   "outputs": [],
   "source": [
    "# Vecteur contentant les quantiles\n",
    "qth = [invF_rho(k/50,a,b) for k in range(1,50)]"
   ]
  },
  {
   "cell_type": "markdown",
   "metadata": {},
   "source": [
    "<h1 style=\"font-family: Georgia, serif;font-size: 1em;margin-left: 3em;margin-right: 4em;\"> \n",
    "\n",
    "---\n",
    "\n",
    "Un QQ-plot est une figure permettant de comparer visuellement deux distributions de probabilité au travers de leurs quantiles. Il s'agit d'un nuage de points où on représente en abscisse les quantiles de la première distribution et en ordonnée les quantiles de la deuxième. Si ce nuage de point est aligné avec la droite $y=x$, cela signifie que les deux distributions ont des quantiles (et donc des fonctions de répartition) similaires. \n",
    "\n",
    "---\n",
    "\n",
    "</h1 style=\"font-family: Georgia, serif;font-size: 1em;margin-left: 3em;margin-right: 4em;\"> \n"
   ]
  },
  {
   "cell_type": "markdown",
   "metadata": {},
   "source": [
    "**Question 3.d.**  Simuler 10000 réalisations de la variable $\\rho(F)$. Calculer les quantiles de la distribution empirique associée à ces échantillons (en utilisant la fonction *quantile* du package *numpy*) pour $\\alpha = k/50$ avec $k~\\in~\\lbrace 1,\\dots,49\\rbrace$ et les comparer aux quantiles théoriques (calculés à la question précédente) avec un QQ-plot."
   ]
  },
  {
   "cell_type": "code",
   "execution_count": 23,
   "metadata": {},
   "outputs": [],
   "source": [
    "## Simulation de rho(F)\n",
    "rho_sim= [invF_rho(np.random.rand(),a,b) for k in range(10000)]\n",
    "\n",
    "# Calcul des quantiles des réalisations\n",
    "qexp = np.quantile (rho_sim,[k/50 for k in range(1,50)])"
   ]
  },
  {
   "cell_type": "code",
   "execution_count": 24,
   "metadata": {},
   "outputs": [
    {
     "name": "stderr",
     "output_type": "stream",
     "text": [
      "C:\\Users\\marti\\AppData\\Local\\Temp\\ipykernel_10208\\3430327231.py:7: UserWarning: FigureCanvasAgg is non-interactive, and thus cannot be shown\n",
      "  fig.show()\n"
     ]
    },
    {
     "data": {
      "image/png": "[encoded data removed]",
      "text/plain": [
       "<Figure size 640x480 with 1 Axes>"
      ]
     },
     "metadata": {},
     "output_type": "display_data"
    }
   ],
   "source": [
    "## QQ-plot\n",
    "fig,ax=plt.subplots()\n",
    "ax.axline((0, 0), (0.5, 0.5), linewidth=1, color='r')\n",
    "ax.scatter(qth,qexp)\n",
    "ax.set_xlabel(\"Quantiles theoriques\")\n",
    "ax.set_ylabel(\"Quantiles des simulations\")\n",
    "fig.show()"
   ]
  },
  {
   "cell_type": "markdown",
   "metadata": {},
   "source": [
    "→ Le nuage de point semble parfaitement se placer le long la droite $y=x$. On en déduit que les deux distributions ont des quantiles très similaires, et donc des fonctions de répartition sont très proches."
   ]
  },
  {
   "cell_type": "markdown",
   "metadata": {},
   "source": [
    "## III - Simulation du tapis de feuilles mortes"
   ]
  },
  {
   "cell_type": "markdown",
   "metadata": {},
   "source": [
    "<h1 style=\"font-family: Georgia, serif;font-size: 1em;margin-left: 3em;margin-right: 4em;\"> \n",
    "\n",
    "---\n",
    "\n",
    "On s'intéresse dorénavant à la simulation de tapis de feuilles mortes. On prend en particulier les valeurs suivantes pour les variables $\\mathcal{D}$,$\\mathcal{D}_{ext}$ et $\\theta$.\n",
    "\n",
    "---\n",
    "\n",
    "</h1> "
   ]
  },
  {
   "cell_type": "code",
   "execution_count": 6,
   "metadata": {},
   "outputs": [],
   "source": [
    "## Taille des fenêtres\n",
    "D=[-1,1]\n",
    "Dext=[-2,2]\n",
    "\n",
    "## Paramètre du processus de Poisson\n",
    "theta=1"
   ]
  },
  {
   "cell_type": "markdown",
   "metadata": {},
   "source": [
    "**Question 4.a.** Implémenter une fonction permettant de simuler la taille d'une feuille étant donnée sa couleur $i$, et les vecteurs $a,b\\in\\R^3$ définis à Q.3.b."
   ]
  },
  {
   "cell_type": "code",
   "execution_count": 9,
   "metadata": {},
   "outputs": [],
   "source": [
    "def simTaille(i,a,b):\n",
    "    u = np.random.rand()\n",
    "    rho = invF_rho(u,a[i],b[i])\n",
    "    return(rho)"
   ]
  },
  {
   "cell_type": "markdown",
   "metadata": {},
   "source": [
    "**Question 4.b.** Implémenter une fonction permettant de simuler la couleur d'une feuille étant donné le vecteur $p\\in\\R^3$ contenant les probabilités $p_i=\\mathbb{P}(c(F)=i)$."
   ]
  },
  {
   "cell_type": "code",
   "execution_count": 10,
   "metadata": {},
   "outputs": [],
   "source": [
    "def simCouleur(p):\n",
    "    couleurs_possibles\n",
    "    couleur = np.random.choice(couleurs_possibles,p=p)\n",
    "    return(couleur)\n",
    "\n",
    "# On suppose que les feuilles tombent uniformément dans Dext"
   ]
  },
  {
   "cell_type": "markdown",
   "metadata": {},
   "source": [
    "**Question 4.c.** Implémenter une fonction permettant de simuler la position d'une feuille étant donné le domaine $\\mathcal{D}_{ext}$."
   ]
  },
  {
   "cell_type": "code",
   "execution_count": 24,
   "metadata": {},
   "outputs": [],
   "source": [
    "\n",
    "def simPosition(Dext):\n",
    "    u = -2 + 4*np.random.rand(2)\n",
    "    return(u)\n",
    "\n",
    "# On suppose que les feuilles tombent uniformément dans Dext"
   ]
  },
  {
   "cell_type": "markdown",
   "metadata": {},
   "source": [
    "**Question 4.d.** Implémenter une fonction permettant de simuler le temps d'arrivée et les caractéristiques des feuilles tombant dans l'intervalle $[t_{\\min},0[$, étant donnée une valeur de $t_{\\min}<0$. La fonction devra retourner un tableau dont les colonnes contiennent, dans l'ordre, le temps d'arrivée, la position,la taille et la couleur des feuilles. On veillera à ce que les temps d'arrivées soient ordonnés dans l'ordre croissant.\n",
    "\n",
    "*Indication: On pourra repartir de l'implémentation de la fonction permettant de simuler les temps d'arrivées et utiliser les fonctions implémentées aux Q.4.a-c.*"
   ]
  },
  {
   "cell_type": "code",
   "execution_count": 12,
   "metadata": {},
   "outputs": [],
   "source": [
    "def simFeuilles(t_min,theta,p,a,b,Dext):\n",
    "    temps_arrivee = simTempsArrivee(t_min,theta) # Les temps d'arrivée sont ici ordonnés dans l'ordre croissant\n",
    "    n = len(temps_arrivee)\n",
    "    res = np.array([])\n",
    "    for k in range(n):\n",
    "        couleur_feuille = simCouleur(p)\n",
    "        temps_arrivee_feuille = temps_arrivee[k]\n",
    "        position_feuille = simPosition(Dext)\n",
    "        taille_feuille = simTaille(couleur_feuille,a,b)\n",
    "        feuille = [temps_arrivee_feuille, position_feuille, taille_feuille, couleur_feuille]\n",
    "        res.append(feuille)\n",
    "    return(res)\n"
   ]
  },
  {
   "cell_type": "markdown",
   "metadata": {},
   "source": [
    "<h1 style=\"font-family: Georgia, serif;font-size: 1em;margin-left: 3em;margin-right: 4em;\"> \n",
    "\n",
    "---\n",
    "\n",
    "D'après le modèle des feuilles mortes, des feuilles sont censées tomber depuis le temps $t=-\\infty$, ce qui supposerait d'appeler la fonction définie à la question précédente avec $t_{\\min}=-\\infty$. Ceci est bien sûr impossible en pratique. \n",
    "\n",
    "On s'intéresse maintenant à comment obtenir une simulation du modèle en temps (de calcul) fini.\n",
    "\n",
    "---\n",
    "\n",
    "</h1> "
   ]
  },
  {
   "cell_type": "markdown",
   "metadata": {},
   "source": [
    "**Question 5.** Générer des simulations pour $t_{\\min}=-100$ et $t_{\\min}=-500$. Le domaine $\\mathcal{D}$ est-il entièrement recouvert? Quelle contradiction obtenons-nous avec les résultats obtenus en Q.2? Existe-t-il une valeur finie de $t_{\\min}$ qui permettrait, presque-sûrement, de lever cette contradiction?"
   ]
  },
  {
   "cell_type": "code",
   "execution_count": null,
   "metadata": {},
   "outputs": [],
   "source": [
    "# Test: Simulation de tapis de feuilles\n",
    "\n",
    "t_min_1 = -100\n",
    "Sim_m100= simFeuilles(t_min_1,theta,p,a,b,Dext)\n",
    "## Plot\n",
    "plotSim(Sim_m100)\n",
    "\n",
    "t_min_2 = -500\n",
    "Sim_m500= simFeuilles(t_min_2,theta,p,a,b,Dext)\n",
    "## Plot\n",
    "plotSim(Sim_m500)"
   ]
  },
  {
   "cell_type": "markdown",
   "metadata": {},
   "source": [
    "On observe que .... \n",
    "Or, d'après la question 2d, la probabilité qu'aucune feuille ne recouvre le point $x_0\\in\\mathcal{D}$ au temps $T_0=0$ est nulle. Or ici, .. ???\n",
    "Existence de tmin ??"
   ]
  },
  {
   "cell_type": "markdown",
   "metadata": {},
   "source": [
    "<h1 style=\"font-family: Georgia, serif;font-size: 1em;margin-left: 3em;margin-right: 4em;\"> \n",
    "\n",
    "---\n",
    "\n",
    "Pour lever la contradiction observée à la question précédente, on aurait besoin de déterminer a priori la valeur de $t_{\\min}$ à partir de laquelle le sol est entièrement recouvert de feuilles. Cette valeur est aléatoire, car elle dépend des caractéristiques des feuilles qui tombent dans l'intervalle $[t_{\\min},0[$. Afin de pouvoir tout de même accéder à une telle valeur, on se propose de considérer le modèle suivant.\n",
    "\n",
    "Cette fois, on commence à $t=U_0=0$ avec un sol vide, et on fait tomber des feuilles selon un processus de Poisson $(U_i)_{i\\in\\mathbb{N}^*}$ sur $]0,\\infty[$. Les caractéristiques des feuilles $F_i$ tombées à chaque instant $U_i$ sont déterminées de la même facon que pour le modèle des feuilles mortes. Soit $M = \\inf\\lbrace i \\in\\mathbb{N}^* : \\mathcal{D}\\subset\\cup_{1\\le k\\le i} F_i  \\rbrace$, c'est-à-dire l'indice (aléatoire) $M$ à partir duquel le sol est recouvert de feuilles.\n",
    "\n",
    "---\n",
    "\n",
    "</h1> "
   ]
  },
  {
   "cell_type": "markdown",
   "metadata": {},
   "source": [
    "**Question 6.a.** Soit $E \\sim \\mathcal{E}(\\theta)$ indépendante des $U_i$. Pour $i\\in\\lbrace 1,...,M\\rbrace$, on pose \n",
    "$$ T_{-i} = U_{M+1-i} - (U_M+E)$$\n",
    "Montrer que les feuilles $(F_i)_{1\\le i\\le M}$ correspondent aux $M$ dernières feuilles d'un modèle des feuilles mortes ayant pour temps d'arrivée $(T_{-i})_{1\\le i\\le M}$ (i.e. $F_M$ arrive au temps $T_{-1}$, $F_{M-1}$ arrive au temps $T_{-2}$,...).\n",
    "\n",
    "*Indication: On pourra utiliser la caractérisation des temps d'arrivée d'un modèles des feuilles mortes donnée en Q.1.dbis.*"
   ]
  },
  {
   "cell_type": "markdown",
   "metadata": {},
   "source": []
  },
  {
   "cell_type": "markdown",
   "metadata": {},
   "source": [
    "**Question 6.b.** En déduire une fonction permettant de simuler ces feuilles.\n",
    "\n",
    "*Indication: Pour vérifier que les points du sol sont recouverts, on se contentera de vérifier que les points d'un maillage fin du sol, appelé Ddiscr dans le code ci-dessous, sont recouverts par une feuille*"
   ]
  },
  {
   "cell_type": "code",
   "execution_count": null,
   "metadata": {},
   "outputs": [],
   "source": [
    "## Maillage du sol\n",
    "Ddiscr=np.stack(np.meshgrid(np.arange(D[0],D[1]+0.01,0.01),np.arange(D[0],D[1]+0.01,0.01)),axis=-1).reshape(-1,2)\n",
    "Ddiscr[1:10,:]"
   ]
  },
  {
   "cell_type": "code",
   "execution_count": 15,
   "metadata": {},
   "outputs": [],
   "source": [
    "def simFeuillesStop(theta,p,a,b,Dext):\n",
    "    \n",
    "    ## COMPLETER ###"
   ]
  },
  {
   "cell_type": "code",
   "execution_count": null,
   "metadata": {},
   "outputs": [],
   "source": [
    "## Simulation du tapis de feuilles\n",
    "Sim=simFeuillesStop(theta,p,a,b,Dext)\n",
    "## Plot\n",
    "plotSim(Sim)"
   ]
  },
  {
   "cell_type": "markdown",
   "metadata": {},
   "source": [
    "**Question 6.c.**  Quelle est la distribution de la taille de la dernière feuille tombée sur le sol? La comparer, avec un QQ-plot, à la taille de la dernière feuille sur un échantillon de 1000 tapis de feuilles simulés avec la fonction créée à la question précédente. Que peut-on en conclure sur la méthode de simulation proposée?"
   ]
  },
  {
   "cell_type": "markdown",
   "metadata": {},
   "source": []
  },
  {
   "cell_type": "code",
   "execution_count": 17,
   "metadata": {},
   "outputs": [],
   "source": [
    "## Simulation des tapis et extraction de la taille de la dernière feuille\n",
    "\n",
    "## COMPLETER ###"
   ]
  },
  {
   "cell_type": "code",
   "execution_count": null,
   "metadata": {},
   "outputs": [],
   "source": [
    "## Quantiles théoriques \n",
    "qth=## COMPLETER ###\n",
    "\n",
    "## Quantiles des simulations\n",
    "qexp=## COMPLETER ###"
   ]
  },
  {
   "cell_type": "code",
   "execution_count": null,
   "metadata": {},
   "outputs": [],
   "source": [
    "## QQ-Plot\n",
    "fig,ax=plt.subplots()\n",
    "ax.axline((0, 0), slope=1, linewidth=1, color='r')\n",
    "ax.scatter(qth,qexp)\n",
    "ax.set_xlabel(\"Quantiles theoriques\")\n",
    "ax.set_ylabel(\"Quantiles des simulations\")\n",
    "plt.show()"
   ]
  },
  {
   "cell_type": "markdown",
   "metadata": {},
   "source": []
  },
  {
   "cell_type": "markdown",
   "metadata": {},
   "source": [
    "<h1 style=\"font-family: Georgia, serif;font-size: 1em;margin-left: 3em;margin-right: 4em;\"> \n",
    "\n",
    "---\n",
    "\n",
    "Face à cette nouvelle déconvenue, on adopte un point de vue différent sur le tapis de feuilles mortes. Jusqu'à maintenant, on observait les feuilles tomber et s'empiler (pendant un temps infini), sur le sol. Ainsi, à $t=T_0=0$, on observe, en vue de dessus notre tapis de feuilles mortes. \n",
    "\n",
    "Supposons désormais qu'il nous est possible d'observer le sol par en-dessous (par exemple, parce que le sol est en fait une verrière plane en dessous de laquelle on se trouve). Comme pour la question précédente,  on commence à $t=U_0=0$ avec un sol vide, et on fait tomber des feuilles selon un processus de Poisson $(U_i)_{i\\in\\mathbb{N}^*}$ sur $]0,\\infty[$. Les caractéristiques des feuilles $F_i$ tombées à chaque instant $U_i$ sont déterminées de la même façon que pour le modèle des feuilles mortes et $M$ désigne une nouvelle fois l'indice (aléatoire) $M$ à partir duquel le sol est recouvert de feuilles.\n",
    "\n",
    "Puisqu'on observe maintenant le sol par en-dessous, après l'instant $U_{M}$, le tapis ne change plus car le sol est recouvert de feuilles et donc les nouvelles feuilles qui tombent sont cachées par celle qui sont déjà présentes. Ainsi, contrairement à la construction précédente, le tapis est fixé à partir d'un certain temps. \n",
    "\n",
    "---\n",
    "\n",
    "</h1> \n"
   ]
  },
  {
   "cell_type": "markdown",
   "metadata": {},
   "source": [
    "**Question 7.a.**  Pour $i\\in\\lbrace 1,...,M\\rbrace$, on pose \n",
    "$$ T_{-i} = -U_{i}$$\n",
    "Montrer qu'en associant la feuille $F_i$ au temps $T_{-i}$, les feuilles $(F_i)_{1\\le i\\le M}$ correspondent aux $M$ dernières feuilles d'un modèle des feuilles mortes."
   ]
  },
  {
   "cell_type": "markdown",
   "metadata": {},
   "source": []
  },
  {
   "cell_type": "markdown",
   "metadata": {},
   "source": [
    "**Question 7.b.** En déduire une fonction permettant de simuler ces feuilles. "
   ]
  },
  {
   "cell_type": "code",
   "execution_count": 19,
   "metadata": {},
   "outputs": [],
   "source": [
    "def simFeuillesDessous(theta,p,a,b,Dext):\n",
    "    \n",
    "  ## COMPLETER ###\n"
   ]
  },
  {
   "cell_type": "code",
   "execution_count": null,
   "metadata": {},
   "outputs": [],
   "source": [
    "## Simulation du tapis de feuilles\n",
    "Sim=simFeuillesDessous(theta,p,a,b,Dext)\n",
    "## Plot\n",
    "plotSim(Sim)"
   ]
  },
  {
   "cell_type": "markdown",
   "metadata": {},
   "source": [
    "**Question 7.c.**  Comparer la distribution, avec un QQ-plot, de la taille de la dernière feuille tombée sur le sol à la taille de la dernière feuille sur un échantillon de 1000 tapis de feuilles simulés avec la fonction créée à la question précédente. Que peut-on en conclure sur la méthode de simulation proposée?"
   ]
  },
  {
   "cell_type": "code",
   "execution_count": 21,
   "metadata": {},
   "outputs": [],
   "source": [
    "## Simulation des tapis et extraction de la taille de la dernière feuille\n",
    "\n",
    "## COMPLETER ###"
   ]
  },
  {
   "cell_type": "code",
   "execution_count": null,
   "metadata": {},
   "outputs": [],
   "source": [
    "## Quantiles théoriques \n",
    "qth=## COMPLETER ###\n",
    "\n",
    "## Quantiles des simulations\n",
    "qexp=## COMPLETER ###\n",
    "\n"
   ]
  },
  {
   "cell_type": "code",
   "execution_count": null,
   "metadata": {},
   "outputs": [],
   "source": [
    "## QQ-Plot\n",
    "fig,ax=plt.subplots()\n",
    "ax.axline((0, 0), slope=1, linewidth=1, color='r')\n",
    "ax.scatter(qth,qexp)\n",
    "ax.set_xlabel(\"Quantiles theoriques\")\n",
    "ax.set_ylabel(\"Quantiles des simulations\")\n",
    "plt.show()"
   ]
  },
  {
   "cell_type": "markdown",
   "metadata": {},
   "source": []
  },
  {
   "cell_type": "markdown",
   "metadata": {},
   "source": [
    "**Question 7.cbis.(Bonus)** Montrer qu'avec ce modèle, on retrouve que la probabilité que la couleur du tapis au point $x_0\\in\\mathcal{D}$  soit $i$ est également donnée par\n",
    "$$P(C(x_0)=i)=\\frac{p_i r_i^2}{\\sum_{j=1}^{N_c} p_jr_j^2}$$"
   ]
  },
  {
   "cell_type": "markdown",
   "metadata": {},
   "source": []
  },
  {
   "cell_type": "markdown",
   "metadata": {},
   "source": [
    "**Question 7.d.** Implémenter une fonction permettant, étant donné un ensemble de points $x_0\\in\\mathcal{D}$, de recalculer numériquement les probabilités $\\mathbb{P}(C(x_0)=i)$ pour $i\\in\\lbrace 1, \\dots, N_c\\rbrace$ à partir de simulations de tapis (réalisées avec la fonction simFeuillesDessous). Appliquer cette fonction à l'ensemble de points $X_0$ défini dans le code et interpréter les résultats."
   ]
  },
  {
   "cell_type": "code",
   "execution_count": null,
   "metadata": {},
   "outputs": [],
   "source": [
    "##  Fonction de calcul des probabilités \n",
    "### X0 : Tableau contenant les coordonnées (sur chaque ligne) des points sur lequels on souhaite calculer les probabilités\n",
    "### nsim : Nombre de simulations\n",
    "def calcProb(X0,nsim):\n",
    "    \n",
    "    ## COMPLETER ###"
   ]
  },
  {
   "cell_type": "code",
   "execution_count": null,
   "metadata": {},
   "outputs": [],
   "source": [
    "## Points sur lesquels évaluer les probabilités\n",
    "X0=np.stack(np.meshgrid(np.arange(D[0],D[1]+0.2,0.2),np.arange(D[0],D[1]+0.2,0.2)),axis=-1).reshape(-1,2)\n",
    "\n",
    "## Calcul et représentation\n",
    "pvec=calcProb(X0,1000)\n",
    "fig, ax = plt.subplots(3,1,figsize=(5,15))\n",
    "Ngd=int(X0.shape[0]**0.5)\n",
    "for i in range(Nc):\n",
    "    im=ax[i].pcolormesh(X0[:,0].reshape((Ngd,Ngd)),X0[:,1].reshape((Ngd,Ngd)),pvec[:,i].reshape((Ngd,Ngd)))\n",
    "    ax[i].set_title(\"Carte de probabilité pour la couleur i=\"+str(i))\n",
    "    fig.colorbar(im)\n",
    "plt.show()     "
   ]
  },
  {
   "cell_type": "markdown",
   "metadata": {},
   "source": []
  },
  {
   "cell_type": "markdown",
   "metadata": {},
   "source": [
    "**Question 7.dbis.(Bonus)** Proposer un code permettant de simuler un tapis de feuille étant donnée qu'on fixe la couleur $i_0$ de la feuille au point $(0,0)$. Calculer numériquement les probabilités afin de valider les résultats de simulation."
   ]
  },
  {
   "cell_type": "code",
   "execution_count": 24,
   "metadata": {},
   "outputs": [],
   "source": [
    "## Simulation conditionnelle\n",
    "def simFeuillesDessousCond(i0,theta,p,a,b,Dext):   \n",
    "    ## COMPLETER ###    \n"
   ]
  }
 ],
 "metadata": {
  "kernelspec": {
   "display_name": "base",
   "language": "python",
   "name": "python3"
  },
  "language_info": {
   "codemirror_mode": {
    "name": "ipython",
    "version": 3
   },
   "file_extension": ".py",
   "mimetype": "text/x-python",
   "name": "python",
   "nbconvert_exporter": "python",
   "pygments_lexer": "ipython3",
   "version": "3.12.7"
  }
 },
 "nbformat": 4,
 "nbformat_minor": 2
}
